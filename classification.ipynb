{
 "cells": [
  {
   "cell_type": "code",
   "execution_count": 21,
   "metadata": {
    "collapsed": false
   },
   "outputs": [],
   "source": [
    "import tensorflow as tf\n",
    "import zipfile\n",
    "import lxml.etree\n",
    "import re\n",
    "import urllib.request\n",
    "import os\n",
    "import numpy as np\n"
   ]
  },
  {
   "cell_type": "code",
   "execution_count": 7,
   "metadata": {
    "collapsed": false
   },
   "outputs": [],
   "source": [
    "# Download the dataset if it's not already there: this may take a minute as it is 75MB\n",
    "if not os.path.isfile('ted_en-20160408.zip'):\n",
    "    urllib.request.urlretrieve(\"https://wit3.fbk.eu/get.php?path=XML_releases/xml/ted_en-20160408.zip&filename=ted_en-20160408.zip\", filename=\"ted_en-20160408.zip\")"
   ]
  },
  {
   "cell_type": "markdown",
   "metadata": {},
   "source": [
    "## Data Preparation"
   ]
  },
  {
   "cell_type": "code",
   "execution_count": 16,
   "metadata": {
    "collapsed": false
   },
   "outputs": [],
   "source": [
    "def parse(doc):\n",
    "    return [(f.xpath(\"./content/text()\")[0], f.xpath(\"./head/keywords/text()\")[0]) for f in doc.xpath(\"//file\")]\n",
    "\n",
    "def label(keywords):\n",
    "    kwset = set([kw.strip().lower() for kw in keywords.split(\",\")])\n",
    "    return 4 * (\"technology\" in kwset) + 2 * (\"entertainment\" in kwset) + 1 * (\"design\" in kwset)\n",
    "\n",
    "def normalise(text):\n",
    "    input_text_noparens = re.sub(r'\\([^)]*\\)', '', text)\n",
    "    no_speakers = []\n",
    "    for line in input_text_noparens.split('\\n'):\n",
    "        m = re.match(r'^(?:(?P<precolon>[^:]{,20}):)?(?P<postcolon>.*)$', line)\n",
    "        no_speakers.extend(sent for sent in m.groupdict()['postcolon'].split('.') if sent)\n",
    "\n",
    "    return re.sub(r\"[^a-z0-9]+\", \" \", ' '.join(no_speakers).lower()).split()\n",
    "\n",
    "with zipfile.ZipFile('ted_en-20160408.zip', 'r') as z:\n",
    "    doc = lxml.etree.parse(z.open('ted_en-20160408.xml', 'r'))\n",
    "\n",
    "all_data_raw = [(normalise(content), label(keywords)) for (content, keywords) in parse(doc)]\n",
    "del doc\n"
   ]
  },
  {
   "cell_type": "markdown",
   "metadata": {},
   "source": [
    "Split into training/validation/test sets:"
   ]
  },
  {
   "cell_type": "code",
   "execution_count": 9,
   "metadata": {
    "collapsed": true
   },
   "outputs": [],
   "source": [
    "training = all_data[:1585]\n",
    "validation = all_data[1585:1585+250]\n",
    "test = all_data[1585+250:]"
   ]
  },
  {
   "cell_type": "markdown",
   "metadata": {},
   "source": [
    "Define vocabulary:"
   ]
  },
  {
   "cell_type": "code",
   "execution_count": 17,
   "metadata": {
    "collapsed": false
   },
   "outputs": [
    {
     "name": "stdout",
     "output_type": "stream",
     "text": [
      "54000\n",
      "['the', 'and', 'to', 'of', 'a', 'that', 'i', 'in', 'it', 'you', 'we', 'is', 's', 'this', 'so', 'they', 'was', 'for', 'are', 'have']\n",
      "['underplanted', 'monzon', 'disempowered', 'benartzi', 'serenades', 'barberton', 'weedicides', 'prepotent', 'globalfamilyreunion', 'behan', 'telemetered', 'postulation', 'diminutive', 'timberland', 'startin', 'spatio', 'perishable', 'muay', 'heschel', 'inducement']\n"
     ]
    }
   ],
   "source": [
    "from collections import Counter\n",
    "word_counts = Counter()\n",
    "\n",
    "for (content, lbl) in all_data_raw:\n",
    "    for word in content:\n",
    "        word_counts[word] += 1\n",
    "\n",
    "# remove some of the least 454 words to ensure we have some unknown words in training and test sets\n",
    "vocabulary = [word for (word, cnt) in word_counts.most_common()][:-454]\n",
    "print(len(vocabulary))\n",
    "print(vocabulary[:20])\n",
    "print(vocabulary[-20:])"
   ]
  },
  {
   "cell_type": "markdown",
   "metadata": {},
   "source": [
    "Map to one-hot vectors:"
   ]
  },
  {
   "cell_type": "code",
   "execution_count": 41,
   "metadata": {
    "collapsed": false
   },
   "outputs": [
    {
     "name": "stdout",
     "output_type": "stream",
     "text": [
      "[ 0.04692082  0.02492669  0.02272727  0.01979472  0.01612903  0.01392962\n",
      "  0.021261    0.01392962  0.01832845  0.00659824  0.02859238  0.02052786\n",
      "  0.01686217  0.00293255  0.01099707  0.021261    0.00366569  0.00513196\n",
      "  0.01173021  0.00733138]\n",
      "2078\n"
     ]
    }
   ],
   "source": [
    "word2index = dict(zip(vocabulary, range(len(vocabulary))))\n",
    "\n",
    "zhv_size = len(vocabulary) + 1 # +1 for unknown token\n",
    "unknown_index = zhv_size - 1\n",
    "\n",
    "def add_word_to_ohvec(word, vec):\n",
    "    vec[word2index.get(word, unknown_index)] += 1\n",
    "\n",
    "def doc2bomvec(doc):\n",
    "    vec = np.zeros(zhv_size)\n",
    "    for word in doc:\n",
    "        add_word_to_ohvec(word, vec)\n",
    "    vec /= len(doc)\n",
    "    return vec\n",
    "\n",
    "print(doc2bomvec(all_data_raw[0][0])[:20])\n",
    "\n",
    "all_data_ohbom = [(doc2bomvec(doc), label) for (doc, label) in all_data_raw if len(doc) > 0]\n",
    "print(len(all_data_ohbom))"
   ]
  },
  {
   "cell_type": "markdown",
   "metadata": {},
   "source": [
    "## Model\n",
    "\n",
    "**x** = embedding(*text*)<br>\n",
    "**h** = tanh(**Wx** + **b**)<br>\n",
    "**u** = **Vh** + **c**<br>\n",
    "**p** = softmax(**u**)<br>\n",
    "if testing:<br>\n",
    "&nbsp;&nbsp;&nbsp;&nbsp;prediction = arg max<sub>y’</sub> p<sub>y’</sub><br>\n",
    "else: # training, with y as the given gold label<br>\n",
    "&nbsp;&nbsp;&nbsp;&nbsp;loss = -log(p<sub>y</sub>)  # cross entropy criterion"
   ]
  },
  {
   "cell_type": "code",
   "execution_count": null,
   "metadata": {
    "collapsed": true
   },
   "outputs": [],
   "source": [
    "vocabulary_size\n",
    "\n",
    "\n",
    "embeddings = tf.Variable(\n",
    "    tf.random_uniform([vocabulary_size, embedding_size], -1.0, 1.0))\n",
    "\n",
    "x = tf.placeholder(tf.float32, [None, ])\n"
   ]
  }
 ],
 "metadata": {
  "kernelspec": {
   "display_name": "Python 3",
   "language": "python",
   "name": "python3"
  },
  "language_info": {
   "codemirror_mode": {
    "name": "ipython",
    "version": 3
   },
   "file_extension": ".py",
   "mimetype": "text/x-python",
   "name": "python",
   "nbconvert_exporter": "python",
   "pygments_lexer": "ipython3",
   "version": "3.5.2"
  }
 },
 "nbformat": 4,
 "nbformat_minor": 2
}
