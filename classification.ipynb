{
 "cells": [
  {
   "cell_type": "code",
   "execution_count": 13,
   "metadata": {
    "collapsed": false
   },
   "outputs": [],
   "source": [
    "%matplotlib inline\n",
    "\n",
    "import tensorflow as tf\n",
    "import zipfile\n",
    "import lxml.etree\n",
    "import re\n",
    "import urllib.request\n",
    "import os\n",
    "import numpy as np\n",
    "import matplotlib.pyplot as plt\n"
   ]
  },
  {
   "cell_type": "code",
   "execution_count": 3,
   "metadata": {
    "collapsed": false
   },
   "outputs": [],
   "source": [
    "# Download the dataset if it's not already there: this may take a minute as it is 75MB\n",
    "if not os.path.isfile('ted_en-20160408.zip'):\n",
    "    urllib.request.urlretrieve(\"https://wit3.fbk.eu/get.php?path=XML_releases/xml/ted_en-20160408.zip&filename=ted_en-20160408.zip\", filename=\"ted_en-20160408.zip\")"
   ]
  },
  {
   "cell_type": "markdown",
   "metadata": {},
   "source": [
    "## Data Preparation"
   ]
  },
  {
   "cell_type": "code",
   "execution_count": 4,
   "metadata": {
    "collapsed": false
   },
   "outputs": [],
   "source": [
    "def parse(doc):\n",
    "    return [(f.xpath(\"./content/text()\")[0], f.xpath(\"./head/keywords/text()\")[0]) for f in doc.xpath(\"//file\")]\n",
    "\n",
    "def label(keywords):\n",
    "    kwset = set([kw.strip().lower() for kw in keywords.split(\",\")])\n",
    "    lbl = np.zeros(8)\n",
    "    lbl[4 * (\"technology\" in kwset) + 2 * (\"entertainment\" in kwset) + 1 * (\"design\" in kwset)] = 1\n",
    "    return lbl\n",
    "\n",
    "def normalise(text):\n",
    "    input_text_noparens = re.sub(r'\\([^)]*\\)', '', text)\n",
    "    no_speakers = []\n",
    "    for line in input_text_noparens.split('\\n'):\n",
    "        m = re.match(r'^(?:(?P<precolon>[^:]{,20}):)?(?P<postcolon>.*)$', line)\n",
    "        no_speakers.extend(sent for sent in m.groupdict()['postcolon'].split('.') if sent)\n",
    "\n",
    "    return re.sub(r\"[^a-z0-9]+\", \" \", ' '.join(no_speakers).lower()).split()\n",
    "\n",
    "with zipfile.ZipFile('ted_en-20160408.zip', 'r') as z:\n",
    "    doc = lxml.etree.parse(z.open('ted_en-20160408.xml', 'r'))\n",
    "\n",
    "all_data_raw = [(normalise(content), label(keywords)) for (content, keywords) in parse(doc)]\n",
    "del doc\n"
   ]
  },
  {
   "cell_type": "markdown",
   "metadata": {},
   "source": [
    "Define vocabulary:"
   ]
  },
  {
   "cell_type": "code",
   "execution_count": 5,
   "metadata": {
    "collapsed": false
   },
   "outputs": [
    {
     "name": "stdout",
     "output_type": "stream",
     "text": [
      "54000\n",
      "['the', 'and', 'to', 'of', 'a', 'that', 'i', 'in', 'it', 'you', 'we', 'is', 's', 'this', 'so', 'they', 'was', 'for', 'are', 'have']\n",
      "['laye', 'tinderbox', 'tunable', 'aquafeed', 'ucked', 'honeymoons', 'sunscreens', 'dernavich', 'perches', 'binocular', 'gwinnett', 'innovates', 'vituperation', 'headrests', 'urubamba', 'demeans', 'trivialize', 'unaccommodated', 'purchasers', 'filtrate']\n"
     ]
    }
   ],
   "source": [
    "from collections import Counter\n",
    "word_counts = Counter()\n",
    "\n",
    "for (content, lbl) in all_data_raw:\n",
    "    for word in content:\n",
    "        word_counts[word] += 1\n",
    "\n",
    "# remove some of the least 454 words to ensure we have some unknown words in training and test sets\n",
    "vocabulary = [word for (word, cnt) in word_counts.most_common()][:-454]\n",
    "print(len(vocabulary))\n",
    "print(vocabulary[:20])\n",
    "print(vocabulary[-20:])"
   ]
  },
  {
   "cell_type": "markdown",
   "metadata": {},
   "source": [
    "Map to one-hot vectors:"
   ]
  },
  {
   "cell_type": "code",
   "execution_count": 6,
   "metadata": {
    "collapsed": false,
    "scrolled": true
   },
   "outputs": [
    {
     "name": "stdout",
     "output_type": "stream",
     "text": [
      "[ 0.04692082  0.02492669  0.02272727  0.01979472  0.01612903  0.01392962\n",
      "  0.021261    0.01392962  0.01832845  0.00659824  0.02859238  0.02052786\n",
      "  0.01686217  0.00293255  0.01099707  0.021261    0.00366569  0.00513196\n",
      "  0.01173021  0.00733138]\n",
      "2078\n"
     ]
    }
   ],
   "source": [
    "word2index = dict(zip(vocabulary, range(len(vocabulary))))\n",
    "\n",
    "zhv_size = len(vocabulary) + 1 # +1 for unknown token\n",
    "unknown_index = zhv_size - 1\n",
    "\n",
    "def add_word_to_ohvec(word, vec):\n",
    "    vec[word2index.get(word, unknown_index)] += 1\n",
    "\n",
    "def doc2bomvec(doc):\n",
    "    vec = np.zeros(zhv_size)\n",
    "    for word in doc:\n",
    "        add_word_to_ohvec(word, vec)\n",
    "    vec /= len(doc)\n",
    "    return vec\n",
    "\n",
    "print(doc2bomvec(all_data_raw[0][0])[:20])\n",
    "\n",
    "all_data_ohbom = [(doc2bomvec(doc), label) for (doc, label) in all_data_raw if len(doc) > 0]\n",
    "print(len(all_data_ohbom))"
   ]
  },
  {
   "cell_type": "markdown",
   "metadata": {},
   "source": [
    "Split into training/validation/test sets:"
   ]
  },
  {
   "cell_type": "code",
   "execution_count": 7,
   "metadata": {
    "collapsed": true
   },
   "outputs": [],
   "source": [
    "training = all_data_ohbom[:1585]\n",
    "validation = all_data_ohbom[1585:1585+250]\n",
    "test = all_data_ohbom[1585+250:]"
   ]
  },
  {
   "cell_type": "markdown",
   "metadata": {},
   "source": [
    "## Model\n",
    "\n",
    "**x** = embedding(*text*)<br>\n",
    "**h** = tanh(**Wx** + **b**)<br>\n",
    "**u** = **Vh** + **c**<br>\n",
    "**p** = softmax(**u**)<br>\n",
    "if testing:<br>\n",
    "&nbsp;&nbsp;&nbsp;&nbsp;prediction = arg max<sub>y’</sub> p<sub>y’</sub><br>\n",
    "else: # training, with y as the given gold label<br>\n",
    "\n",
    "&nbsp;&nbsp;&nbsp;&nbsp;loss = -log(p<sub>y</sub>)  # cross entropy criterion"
   ]
  },
  {
   "cell_type": "markdown",
   "metadata": {},
   "source": [
    "Metaparameters:"
   ]
  },
  {
   "cell_type": "code",
   "execution_count": 8,
   "metadata": {
    "collapsed": true
   },
   "outputs": [],
   "source": [
    "learning_rate = 0.001\n",
    "training_epochs = 15\n",
    "batch_size = 50"
   ]
  },
  {
   "cell_type": "markdown",
   "metadata": {},
   "source": [
    "Network parameters:"
   ]
  },
  {
   "cell_type": "code",
   "execution_count": 9,
   "metadata": {
    "collapsed": true
   },
   "outputs": [],
   "source": [
    "embedding_size = 50\n",
    "hidden_size = 10"
   ]
  },
  {
   "cell_type": "markdown",
   "metadata": {},
   "source": [
    "We separate embeddings out, even though there are just weights, the same as in the subsequent layers:"
   ]
  },
  {
   "cell_type": "code",
   "execution_count": 10,
   "metadata": {
    "collapsed": true
   },
   "outputs": [],
   "source": [
    "w2v = tf.Variable(tf.random_normal([zhv_size, embedding_size]))"
   ]
  },
  {
   "cell_type": "markdown",
   "metadata": {},
   "source": [
    "Model:\n",
    "\n",
    "**TODO:** here we first average all of the one-hot vectors in the content, so the embeddings we train are really document embeddings, not word embeddings. The [README](https://github.com/mmakowski/oxford-deepnlp-practical2/blob/master/README.md) suggests we should be training word embeddings. How can that be achieved?"
   ]
  },
  {
   "cell_type": "code",
   "execution_count": 11,
   "metadata": {
    "collapsed": false
   },
   "outputs": [],
   "source": [
    "def embedding(text, w2v):\n",
    "    return tf.matmul(text, w2v)\n",
    "\n",
    "def model(text, weights, biases, w2v):\n",
    "    x = embedding(text, w2v)\n",
    "    h = tf.tanh(tf.add(tf.matmul(x, weights['W']), biases['b']))\n",
    "    u = tf.add(tf.matmul(h, weights['V']), biases['c'])\n",
    "    return u"
   ]
  },
  {
   "cell_type": "markdown",
   "metadata": {},
   "source": [
    "Network state:"
   ]
  },
  {
   "cell_type": "code",
   "execution_count": 12,
   "metadata": {
    "collapsed": true
   },
   "outputs": [],
   "source": [
    "# parameters that are fixed for the task:\n",
    "n_classes = 8\n",
    "\n",
    "text = tf.placeholder(tf.float32, [None, zhv_size])\n",
    "label = tf.placeholder(tf.float32, [None, n_classes])\n",
    "\n",
    "weights = {\n",
    "    'W': tf.Variable(tf.random_normal([embedding_size, hidden_size])),\n",
    "    'V': tf.Variable(tf.random_normal([hidden_size, n_classes]))\n",
    "}\n",
    "biases = {\n",
    "    'b': tf.Variable(tf.random_normal([hidden_size])),\n",
    "    'c': tf.Variable(tf.random_normal([n_classes])),\n",
    "}"
   ]
  },
  {
   "cell_type": "markdown",
   "metadata": {},
   "source": [
    "Train:"
   ]
  },
  {
   "cell_type": "code",
   "execution_count": 14,
   "metadata": {
    "collapsed": false,
    "scrolled": true
   },
   "outputs": [
    {
     "name": "stdout",
     "output_type": "stream",
     "text": [
      "Epoch:  0001 loss= 1.919901747\n",
      "Epoch:  0002 loss= 1.586415686\n",
      "Epoch:  0003 loss= 1.485851394\n",
      "Epoch:  0004 loss= 1.403507916\n",
      "Epoch:  0005 loss= 1.331803868\n",
      "Epoch:  0006 loss= 1.265870988\n",
      "Epoch:  0007 loss= 1.204466186\n",
      "Epoch:  0008 loss= 1.147185093\n",
      "Epoch:  0009 loss= 1.093694244\n",
      "Epoch:  0010 loss= 1.043624919\n",
      "Epoch:  0011 loss= 0.996619040\n",
      "Epoch:  0012 loss= 0.952265896\n",
      "Epoch:  0013 loss= 0.910128454\n",
      "Epoch:  0014 loss= 0.869818319\n",
      "Epoch:  0015 loss= 0.831040010\n"
     ]
    }
   ],
   "source": [
    "pred = model(text, weights, biases, w2v)\n",
    "\n",
    "cost = tf.reduce_mean(tf.nn.softmax_cross_entropy_with_logits(logits=pred, labels=label))\n",
    "optimizer = tf.train.AdamOptimizer(learning_rate).minimize(cost)\n",
    "\n",
    "init = tf.global_variables_initializer()\n",
    "\n",
    "losses = {'train': [], 'validation': []}\n",
    "\n",
    "def inputs(data_batch):\n",
    "    text_matrix = np.array([text for (text, label) in data_batch])\n",
    "    label_matrix = np.array([label for (text, label) in data_batch])\n",
    "    return text_matrix, label_matrix\n",
    "\n",
    "val_text, val_label = inputs(validation)\n",
    "\n",
    "with tf.Session() as sess:\n",
    "    sess.run(init)\n",
    "    \n",
    "    for epoch in range(training_epochs):\n",
    "        avg_cost = 0.\n",
    "        total_batch = int(np.ceil(len(training) / batch_size))\n",
    "        for i in range(total_batch):\n",
    "            # TODO: sample the batch\n",
    "            batch = training[i * batch_size : (i+1) * batch_size]\n",
    "            batch_text, batch_label = inputs(batch)\n",
    "            _, c = sess.run([optimizer, cost], feed_dict = { text: batch_text, label: batch_label})\n",
    "            avg_cost += c / total_batch\n",
    "            vc = cost.eval({text: val_text, label: val_label})\n",
    "            losses['validation'].append(vc)\n",
    "            losses['train'].append(c)\n",
    "        print(\"Epoch: \", '%04d' % (epoch+1), \"loss=\", \"{:.9f}\".format(avg_cost))\n",
    "        \n",
    "\n"
   ]
  },
  {
   "cell_type": "code",
   "execution_count": 17,
   "metadata": {
    "collapsed": false
   },
   "outputs": [
    {
     "data": {
      "text/plain": [
       "<matplotlib.legend.Legend at 0x18ccf1b70>"
      ]
     },
     "execution_count": 17,
     "metadata": {},
     "output_type": "execute_result"
    },
    {
     "data": {
      "image/png": "[encoded data removed]",
      "text/plain": [
       "<matplotlib.figure.Figure at 0x18cbfdb38>"
      ]
     },
     "metadata": {},
     "output_type": "display_data"
    }
   ],
   "source": [
    "plt.plot(losses['train'], label='Training loss')\n",
    "plt.plot(losses['validation'], label='Validation loss')\n",
    "plt.legend()"
   ]
  },
  {
   "cell_type": "markdown",
   "metadata": {},
   "source": [
    "Test:"
   ]
  },
  {
   "cell_type": "code",
   "execution_count": null,
   "metadata": {
    "collapsed": true
   },
   "outputs": [],
   "source": [
    "with tf.Session() as sess:\n",
    "    sess.run(init)\n",
    "    \n",
    "    correct_pred = tf.equal(tf.argmax(pred, 1), tf.argmax(label, 1))\n",
    "    accuracy = tf.reduce_mean(tf.cast(correct_pred, \"float\"))\n",
    "    test_text = np.array([text for (text, label) in test])\n",
    "    test_label = np.array([label for (text, label) in test])\n",
    "    print(\"test set accuracy: \", accuracy.eval({text: test_text, label: test_label}))"
   ]
  }
 ],
 "metadata": {
  "kernelspec": {
   "display_name": "Python 3",
   "language": "python",
   "name": "python3"
  },
  "language_info": {
   "codemirror_mode": {
    "name": "ipython",
    "version": 3
   },
   "file_extension": ".py",
   "mimetype": "text/x-python",
   "name": "python",
   "nbconvert_exporter": "python",
   "pygments_lexer": "ipython3",
   "version": "3.5.2"
  }
 },
 "nbformat": 4,
 "nbformat_minor": 2
}
