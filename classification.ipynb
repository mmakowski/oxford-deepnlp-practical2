{
 "cells": [
  {
   "cell_type": "code",
   "execution_count": 8,
   "metadata": {
    "collapsed": false
   },
   "outputs": [],
   "source": [
    "import tensorflow as tf\n",
    "import zipfile\n",
    "import lxml.etree\n",
    "import re\n"
   ]
  },
  {
   "cell_type": "markdown",
   "metadata": {},
   "source": [
    "## Data Preparation"
   ]
  },
  {
   "cell_type": "code",
   "execution_count": 12,
   "metadata": {
    "collapsed": false
   },
   "outputs": [],
   "source": [
    "def parse(doc):\n",
    "    return [(f.xpath(\"./content/text()\")[0], f.xpath(\"./head/keywords/text()\")[0]) for f in doc.xpath(\"//file\")]\n",
    "\n",
    "def label(keywords):\n",
    "    kwset = set([kw.strip().lower() for kw in keywords.split(\",\")])\n",
    "    return 4 * (\"technology\" in kwset) + 2 * (\"entertainment\" in kwset) + 1 * (\"design\" in kwset)\n",
    "\n",
    "def normalise(text):\n",
    "    input_text_noparens = re.sub(r'\\([^)]*\\)', '', text)\n",
    "    no_speakers = []\n",
    "    for line in input_text_noparens.split('\\n'):\n",
    "        m = re.match(r'^(?:(?P<precolon>[^:]{,20}):)?(?P<postcolon>.*)$', line)\n",
    "        no_speakers.extend(sent for sent in m.groupdict()['postcolon'].split('.') if sent)\n",
    "\n",
    "    return re.sub(r\"[^a-z0-9]+\", \" \", ' '.join(no_speakers).lower()).split()\n",
    "\n",
    "with zipfile.ZipFile('ted_en-20160408.zip', 'r') as z:\n",
    "    doc = lxml.etree.parse(z.open('ted_en-20160408.xml', 'r'))\n",
    "\n",
    "all_data = [(normalise(content), label(keywords)) for (content, keywords) in parse(doc)]\n",
    "del doc\n"
   ]
  },
  {
   "cell_type": "markdown",
   "metadata": {},
   "source": [
    "Split into training/validation/test sets:"
   ]
  },
  {
   "cell_type": "code",
   "execution_count": 13,
   "metadata": {
    "collapsed": true
   },
   "outputs": [],
   "source": [
    "training = all_data[:1585]\n",
    "validation = all_data[1585:1585+250]\n",
    "test = all_data[1585+250:]"
   ]
  },
  {
   "cell_type": "markdown",
   "metadata": {},
   "source": [
    "## Model\n",
    "\n",
    "**x** = embedding(*text*)<br>\n",
    "**h** = tanh(**Wx** + **b**)<br>\n",
    "**u** = **Vh** + **c**<br>\n",
    "**p** = softmax(**u**)<br>\n",
    "if testing:<br>\n",
    "&nbsp;&nbsp;&nbsp;&nbsp;prediction = arg max<sub>y’</sub> p<sub>y’</sub><br>\n",
    "else: # training, with y as the given gold label<br>\n",
    "&nbsp;&nbsp;&nbsp;&nbsp;loss = -log(p<sub>y</sub>)  # cross entropy criterion"
   ]
  },
  {
   "cell_type": "code",
   "execution_count": null,
   "metadata": {
    "collapsed": true
   },
   "outputs": [],
   "source": [
    "vocabulary_size\n",
    "\n",
    "\n",
    "embeddings = tf.Variable(\n",
    "    tf.random_uniform([vocabulary_size, embedding_size], -1.0, 1.0))\n",
    "\n",
    "x = tf.placeholder(tf.float32, [None, ])\n"
   ]
  }
 ],
 "metadata": {
  "kernelspec": {
   "display_name": "Python 3",
   "language": "python",
   "name": "python3"
  },
  "language_info": {
   "codemirror_mode": {
    "name": "ipython",
    "version": 3
   },
   "file_extension": ".py",
   "mimetype": "text/x-python",
   "name": "python",
   "nbconvert_exporter": "python",
   "pygments_lexer": "ipython3",
   "version": "3.5.2"
  }
 },
 "nbformat": 4,
 "nbformat_minor": 2
}
